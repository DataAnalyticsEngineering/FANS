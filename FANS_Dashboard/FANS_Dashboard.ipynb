{
 "cells": [
  {
   "cell_type": "code",
   "execution_count": null,
   "metadata": {},
   "outputs": [],
   "source": [
    "import numpy as np\n",
    "from FANS_Dashboard_utils import *\n",
    "from postprocessing import compute_rank2tensor_measures\n",
    "from h52xdmf import write_xdmf\n",
    "from plotting import plot_subplots"
   ]
  },
  {
   "cell_type": "code",
   "execution_count": null,
   "metadata": {},
   "outputs": [],
   "source": [
    "# Example usage\n",
    "file_path = '../test/test_results.h5'\n",
    "\n",
    "# Extract data from the file\n",
    "hierarchy = identify_hierarchy(file_path)\n",
    "summarize_hierarchy(hierarchy)"
   ]
  },
  {
   "cell_type": "code",
   "execution_count": null,
   "metadata": {},
   "outputs": [],
   "source": [
    "# User specifies which microstructures, load cases, and quantities to load\n",
    "microstructures_to_load = ['/sphere/32x32x32/ms']\n",
    "load_cases_to_load = ['load0']\n",
    "quantities_to_load = ['strain_average', 'stress_average', 'phase_stress_average_phase0', \"stress\"]\n",
    "time_steps_to_load = []\n",
    "\n",
    "# Extract the specified data, organized and sorted by time steps\n",
    "data = extract_and_organize_data(file_path, hierarchy, \n",
    "                                 quantities_to_load, \n",
    "                                 microstructures_to_load, \n",
    "                                 load_cases_to_load, \n",
    "                                 time_steps_to_load)"
   ]
  },
  {
   "cell_type": "code",
   "execution_count": null,
   "metadata": {},
   "outputs": [],
   "source": [
    "strain_average = data['/sphere/32x32x32/ms']['load0']['strain_average']\n",
    "stress_average = data['/sphere/32x32x32/ms']['load0']['stress_average']\n",
    "time_steps = data['/sphere/32x32x32/ms']['load0']['time_steps']\n",
    "\n",
    "time_broadcasted = np.tile(time_steps[:, np.newaxis], (1, stress_average.shape[1]))"
   ]
  },
  {
   "cell_type": "code",
   "execution_count": null,
   "metadata": {},
   "outputs": [],
   "source": [
    "# Specify additional measures to compute\n",
    "measures_to_compute = ['von_mises', 'hydrostatic', 'deviatoric', 'principal', \n",
    "                       'max_shear', 'I_invariants', 'J_invariants', 'eigenvalues',\n",
    "                       'eigenvectors', 'lode_angle']\n",
    "\n",
    "# Compute the requested measures\n",
    "results = compute_rank2tensor_measures(stress_average, measures_to_compute)\n",
    "stress_average_deviatoric = results['deviatoric']"
   ]
  },
  {
   "cell_type": "code",
   "execution_count": null,
   "metadata": {},
   "outputs": [],
   "source": [
    "# postprocessign and writing\n",
    "\n",
    "quantities_to_process = ['stress_average', 'stress']\n",
    "measures = ['deviatoric', 'von_mises', 'J_invariants']\n",
    "\n",
    "# Process and write back\n",
    "processed_data = postprocess_and_write_back(file_path, hierarchy, quantities_to_process, measures, \n",
    "                                microstructures_to_load, load_cases_to_load)"
   ]
  },
  {
   "cell_type": "code",
   "execution_count": null,
   "metadata": {},
   "outputs": [],
   "source": [
    "# Plot stress average vs strain average for each component\n",
    "\n",
    "plot_subplots(strain_average, stress_average, labels_x=['Strain']*6, labels_y=['Stress']*6, \n",
    "              subplot_titles=['component - 11', 'component - 22', 'component - 33', 'component - 12', 'component - 13', 'component - 23'], \n",
    "              title='Stress average vs strain average', \n",
    "              nrows=2, ncols=3, linewidth=1, markersize=4, linecolor='blue', markercolor='blue', aspect_ratio=(1,1), fontsize=12)\n"
   ]
  },
  {
   "cell_type": "code",
   "execution_count": null,
   "metadata": {},
   "outputs": [],
   "source": [
    "# Plot deviatoric stress average vs strain average for each component\n",
    "plot_subplots(strain_average, stress_average_deviatoric, labels_x=['Strain']*6, labels_y=['Stress_dev']*6,\n",
    "                subplot_titles=['component - 11', 'component - 22', 'component - 33', 'component - 12', 'component - 13', 'component - 23'],\n",
    "                title='Deviatoric stress average vs strain average',\n",
    "                nrows=2, ncols=3, linewidth=1, markersize=4, linecolor='blue', markercolor='blue', aspect_ratio=(1,1), fontsize=12)"
   ]
  },
  {
   "cell_type": "code",
   "execution_count": null,
   "metadata": {},
   "outputs": [],
   "source": [
    "# Plot deviatoric stress average vs time\n",
    "plot_subplots(time_broadcasted, stress_average_deviatoric, labels_x=['Time']*6, labels_y=['Stress_dev']*6,\n",
    "                subplot_titles=['component - 11', 'component - 22', 'component - 33', 'component - 12', 'component - 13', 'component - 23'],\n",
    "                title='Deviatoric stress average vs time',\n",
    "                nrows=2, ncols=3, linewidth=1, markersize=4, linecolor='blue', markercolor='blue', aspect_ratio=(1,1), fontsize=12)\n"
   ]
  },
  {
   "cell_type": "code",
   "execution_count": null,
   "metadata": {},
   "outputs": [],
   "source": [
    "plot_subplots(\n",
    "    np.column_stack((strain_average[:, 0], strain_average[:, 0])), \n",
    "    np.column_stack((stress_average[:, 0], stress_average_deviatoric[:, 0])), \n",
    "    labels_x=['Strain_11']*2, labels_y=['Stress_11', 'Stress_dev_11'],\n",
    "    subplot_titles=['Stress_11 vs Strain_11', 'Stress_dev_11 vs Strain_11'],\n",
    "    nrows=1, ncols=2, linewidth=1, markersize=4, linecolor='blue', markercolor='blue', aspect_ratio=(1,1), fontsize=12)"
   ]
  },
  {
   "cell_type": "code",
   "execution_count": null,
   "metadata": {},
   "outputs": [],
   "source": [
    "write_xdmf(file_path, time_series=True)"
   ]
  }
 ],
 "metadata": {
  "kernelspec": {
   "display_name": "Python 3",
   "language": "python",
   "name": "python3"
  },
  "language_info": {
   "codemirror_mode": {
    "name": "ipython",
    "version": 3
   },
   "file_extension": ".py",
   "mimetype": "text/x-python",
   "name": "python",
   "nbconvert_exporter": "python",
   "pygments_lexer": "ipython3",
   "version": "3.12.4"
  }
 },
 "nbformat": 4,
 "nbformat_minor": 2
}
