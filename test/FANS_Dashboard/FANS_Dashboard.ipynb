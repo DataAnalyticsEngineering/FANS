{
 "cells": [
  {
   "cell_type": "code",
   "execution_count": null,
   "metadata": {},
   "outputs": [],
   "source": [
    "import numpy as np\n",
    "from FANS_Dashboard_utils import *"
   ]
  },
  {
   "cell_type": "code",
   "execution_count": null,
   "metadata": {},
   "outputs": [],
   "source": [
    "# Example usage\n",
    "file_path = '../test_PseudoPlasticLinearHardening.h5'\n",
    "\n",
    "# Extract data from the file\n",
    "hierarchy = identify_hierarchy(file_path)\n",
    "summarize_hierarchy(hierarchy)"
   ]
  },
  {
   "cell_type": "code",
   "execution_count": null,
   "metadata": {},
   "outputs": [],
   "source": [
    "# User specifies which microstructures, load cases, and quantities to load\n",
    "microstructures_to_load = ['/sphere/32x32x32/ms']\n",
    "load_cases_to_load = ['load0']\n",
    "quantities_to_load = ['strain_average', 'stress_average', 'phase_stress_average_phase0', \"stress\"]\n",
    "time_steps_to_load = []\n",
    "\n",
    "# Extract the specified data, organized and sorted by time steps\n",
    "data = extract_and_organize_data(file_path, hierarchy, quantities_to_load, microstructures_to_load, load_cases_to_load, time_steps_to_load)\n",
    "\n",
    "data = compute_additional_stress_measures(data)"
   ]
  },
  {
   "cell_type": "code",
   "execution_count": null,
   "metadata": {},
   "outputs": [],
   "source": [
    "strain = data['/sphere/32x32x32/ms']['load0']['strain_average']\n",
    "stress = data['/sphere/32x32x32/ms']['load0']['stress_average']\n",
    "time = data['/sphere/32x32x32/ms']['load0']['time_steps']\n",
    "deviatoric_stress = data['/sphere/32x32x32/ms']['load0']['deviatoric_stress']\n",
    "\n",
    "time_broadcasted = np.tile(time[:, np.newaxis], (1, stress.shape[1]))"
   ]
  },
  {
   "cell_type": "code",
   "execution_count": null,
   "metadata": {},
   "outputs": [],
   "source": [
    "plot_subplots(strain, stress, labels=(\"Strain\", \"Stress\"), title=\"Stress vs Strain for Each Component\", nrows=2, ncols=3)\n",
    "plot_subplots(strain, deviatoric_stress, labels=(\"Strain\", \"Dev-stress\"), title=\"Deviatoric stress vs Strain for Each Component\", nrows=2, ncols=3)"
   ]
  },
  {
   "cell_type": "code",
   "execution_count": null,
   "metadata": {},
   "outputs": [],
   "source": [
    "plot_subplots(time_broadcasted, stress, labels=(\"Time\", \"Stress\"), title=\"Stress vs Time for Each Component\", nrows=2, ncols=3)\n",
    "plot_subplots(time_broadcasted, deviatoric_stress, labels=(\"Time\", \"Deviatoric stress\"), title=\"Deviatoric stress vs Time for Each Component\", nrows=2, ncols=3)\n",
    "plot_subplots(strain[:, 0], deviatoric_stress[:, 0], labels=(\"Strain\", \"Deviatoric stress\"), title=\"Deviatoric stress vs Strain for Component 1\", nrows=1, ncols=1)"
   ]
  }
 ],
 "metadata": {
  "kernelspec": {
   "display_name": "Python 3",
   "language": "python",
   "name": "python3"
  },
  "language_info": {
   "codemirror_mode": {
    "name": "ipython",
    "version": 3
   },
   "file_extension": ".py",
   "mimetype": "text/x-python",
   "name": "python",
   "nbconvert_exporter": "python",
   "pygments_lexer": "ipython3",
   "version": "3.12.4"
  }
 },
 "nbformat": 4,
 "nbformat_minor": 2
}
